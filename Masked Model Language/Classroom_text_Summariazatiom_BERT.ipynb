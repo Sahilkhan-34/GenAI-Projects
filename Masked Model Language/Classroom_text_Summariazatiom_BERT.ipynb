{
  "nbformat": 4,
  "nbformat_minor": 0,
  "metadata": {
    "colab": {
      "provenance": []
    },
    "kernelspec": {
      "name": "python3",
      "display_name": "Python 3"
    },
    "language_info": {
      "name": "python"
    }
  },
  "cells": [
    {
      "cell_type": "code",
      "execution_count": 1,
      "metadata": {
        "colab": {
          "base_uri": "https://localhost:8080/",
          "height": 0
        },
        "id": "YIDtEhYRwvHW",
        "outputId": "307ed24d-1dea-4d7b-d18a-6526c5231e8f"
      },
      "outputs": [
        {
          "output_type": "stream",
          "name": "stdout",
          "text": [
            "Requirement already satisfied: transformers in /usr/local/lib/python3.10/dist-packages (4.41.1)\n",
            "Requirement already satisfied: filelock in /usr/local/lib/python3.10/dist-packages (from transformers) (3.14.0)\n",
            "Requirement already satisfied: huggingface-hub<1.0,>=0.23.0 in /usr/local/lib/python3.10/dist-packages (from transformers) (0.23.1)\n",
            "Requirement already satisfied: numpy>=1.17 in /usr/local/lib/python3.10/dist-packages (from transformers) (1.25.2)\n",
            "Requirement already satisfied: packaging>=20.0 in /usr/local/lib/python3.10/dist-packages (from transformers) (24.0)\n",
            "Requirement already satisfied: pyyaml>=5.1 in /usr/local/lib/python3.10/dist-packages (from transformers) (6.0.1)\n",
            "Requirement already satisfied: regex!=2019.12.17 in /usr/local/lib/python3.10/dist-packages (from transformers) (2023.12.25)\n",
            "Requirement already satisfied: requests in /usr/local/lib/python3.10/dist-packages (from transformers) (2.31.0)\n",
            "Requirement already satisfied: tokenizers<0.20,>=0.19 in /usr/local/lib/python3.10/dist-packages (from transformers) (0.19.1)\n",
            "Requirement already satisfied: safetensors>=0.4.1 in /usr/local/lib/python3.10/dist-packages (from transformers) (0.4.3)\n",
            "Requirement already satisfied: tqdm>=4.27 in /usr/local/lib/python3.10/dist-packages (from transformers) (4.66.4)\n",
            "Requirement already satisfied: fsspec>=2023.5.0 in /usr/local/lib/python3.10/dist-packages (from huggingface-hub<1.0,>=0.23.0->transformers) (2023.6.0)\n",
            "Requirement already satisfied: typing-extensions>=3.7.4.3 in /usr/local/lib/python3.10/dist-packages (from huggingface-hub<1.0,>=0.23.0->transformers) (4.11.0)\n",
            "Requirement already satisfied: charset-normalizer<4,>=2 in /usr/local/lib/python3.10/dist-packages (from requests->transformers) (3.3.2)\n",
            "Requirement already satisfied: idna<4,>=2.5 in /usr/local/lib/python3.10/dist-packages (from requests->transformers) (3.7)\n",
            "Requirement already satisfied: urllib3<3,>=1.21.1 in /usr/local/lib/python3.10/dist-packages (from requests->transformers) (2.0.7)\n",
            "Requirement already satisfied: certifi>=2017.4.17 in /usr/local/lib/python3.10/dist-packages (from requests->transformers) (2024.2.2)\n"
          ]
        }
      ],
      "source": [
        "! pip install transformers\n"
      ]
    },
    {
      "cell_type": "code",
      "source": [
        "! pip show transformers\n"
      ],
      "metadata": {
        "colab": {
          "base_uri": "https://localhost:8080/",
          "height": 0
        },
        "id": "3kmXm2fn3Sun",
        "outputId": "930315ce-5767-4f7f-c11e-7d1a21d78093"
      },
      "execution_count": 2,
      "outputs": [
        {
          "output_type": "stream",
          "name": "stdout",
          "text": [
            "Name: transformers\n",
            "Version: 4.41.1\n",
            "Summary: State-of-the-art Machine Learning for JAX, PyTorch and TensorFlow\n",
            "Home-page: https://github.com/huggingface/transformers\n",
            "Author: The Hugging Face team (past and future) with the help of all our contributors (https://github.com/huggingface/transformers/graphs/contributors)\n",
            "Author-email: transformers@huggingface.co\n",
            "License: Apache 2.0 License\n",
            "Location: /usr/local/lib/python3.10/dist-packages\n",
            "Requires: filelock, huggingface-hub, numpy, packaging, pyyaml, regex, requests, safetensors, tokenizers, tqdm\n",
            "Required-by: bert-extractive-summarizer\n"
          ]
        }
      ]
    },
    {
      "cell_type": "code",
      "source": [
        "from transformers import BartForConditionalGeneration, BartTokenizer\n"
      ],
      "metadata": {
        "id": "EnpRBqNH3Sqo"
      },
      "execution_count": 3,
      "outputs": []
    },
    {
      "cell_type": "code",
      "source": [
        "# Load the pre-trained BART model and tokenizer\n",
        "model_name = 'facebook/bart-large-cnn'\n",
        "model = BartForConditionalGeneration.from_pretrained(model_name)\n",
        "tokenizer = BartTokenizer.from_pretrained(model_name)\n"
      ],
      "metadata": {
        "id": "-HRSQAdi6njB"
      },
      "execution_count": 7,
      "outputs": []
    },
    {
      "cell_type": "code",
      "source": [
        "# Define the text you want to summarize\n",
        "text = '''\n",
        "       Scientists say they have discovered a new species of orangutans on Indonesia’s island of Sumatra.\n",
        "The population differs in several ways from the two existing orangutan species found in Sumatra and the neighboring island of Borneo.\n",
        "The orangutans were found inside North Sumatra’s Batang Toru forest, the science publication Current Biology reported.\n",
        "Researchers named the new species the Tapanuli orangutan. They say the animals are considered a new species because of genetic, skeletal and tooth differences.\n",
        "Michael Kruetzen is a geneticist with the University of Zurich who has studied the orangutans for several years. He said he was excited to be part of the unusual discovery of a new great ape in the present day. He noted that most great apes are currently considered endangered or severely endangered.\n",
        "Gorillas, chimpanzees and bonobos also belong to the great ape species.\n",
        "Orangutan – which means person of the forest in the Indonesian and Malay languages - is the world’s biggest tree-living mammal. The orange-haired animals can move easily among the trees because their arms are longer than their legs. They live more lonely lives than other great apes, spending a lot of time sleeping and eating fruit in the forest.\n",
        "The new study said fewer than 800 of the newly-described orangutans exist. Their low numbers make the group the most endangered of all the great ape species.\n",
        "They live within an area covering about 1,000 square kilometers. The population is considered highly vulnerable. That is because the environment which they depend on is greatly threatened by development.\n",
        "Researchers say if steps are not taken quickly to reduce the current and future threats, the new species could become extinct “within our lifetime.”\n",
        "Research into the new species began in 2013, when an orangutan protection group in Sumatra found an injured orangutan in an area far away from the other species. The adult male orangutan had been beaten by local villagers and died of his injuries. The complete skull was examined by researchers.\n",
        "Among the physical differences of the new species are a notably smaller head and frizzier hair. The Tapanuli orangutans also have a different diet and are found only in higher forest areas.\n",
        "There is no unified international system for recognizing new species. But to be considered, discovery claims at least require publication in a major scientific publication.\n",
        "Russell Mittermeier is head of the primate specialist group at the International Union for the Conservation of Nature. He called the finding a “remarkable discovery.” He said it puts responsibility on the Indonesian government to help the species survive.\n",
        "Matthew Nowak is one of the writers of the study. He told the Associated Press that there are three groups of the Tapanuli orangutans that are separated by non-protected land.He said forest land needs to connect the separated groups.\n",
        "In addition, the writers of the study are recommending that plans for a hydropower center in the area be stopped by the government.\n",
        "It also recommended that remaining forest in the Sumatran area where the orangutans live be protected.\n",
        "I’m Bryan Lynn.\n",
        "\n",
        "        '''"
      ],
      "metadata": {
        "id": "bqkMG1Ej6qWU"
      },
      "execution_count": 8,
      "outputs": []
    },
    {
      "cell_type": "code",
      "source": [
        "# Tokenize the input text and prepare it for the model\n",
        "inputs = tokenizer(text, max_length=2048, return_tensors='pt', truncation=True)\n",
        "inputs"
      ],
      "metadata": {
        "colab": {
          "base_uri": "https://localhost:8080/",
          "height": 0
        },
        "id": "iIYYNl-d6zT1",
        "outputId": "931af9d7-e4bb-4219-b2de-d839492ceed9"
      },
      "execution_count": 9,
      "outputs": [
        {
          "output_type": "execute_result",
          "data": {
            "text/plain": [
              "{'input_ids': tensor([[    0, 50118,  1437,  1437,  1437,  1437,  1437,  1437, 14008,   224,\n",
              "            51,    33,  2967,    10,    92,  4707,     9,    50,  1097,  1182,\n",
              "          1253,    15,  5722,    17,    27,    29,  2946,     9,  9430, 15560,\n",
              "             4, 50118,   133,  1956, 31381,    11,   484,  1319,    31,     5,\n",
              "            80,  2210,    50,  1097, 22165,  4707,   303,    11,  9430, 15560,\n",
              "             8,     5, 10935,  2946,     9,   163, 12266,   139,     4, 50118,\n",
              "           133,    50,  1097,  1182,  1253,    58,   303,  1025,   369,  9430,\n",
              "         15560,    17,    27,    29,  8324,  1097,  6623,   257,  6693,     6,\n",
              "             5,  2866,  5362,  9149, 28543,   431,     4, 50118, 40450,  1440,\n",
              "             5,    92,  4707,     5,   255, 20948, 18425,    50,  1097, 22165,\n",
              "             4,   252,   224,     5,  3122,    32,  1687,    10,    92,  4707,\n",
              "           142,     9,  9186,     6, 39351,     8, 13495,  5550,     4, 50118,\n",
              "         14009, 19262,   594,  7889,    16,    10,  9186,   661,    19,     5,\n",
              "           589,     9, 19319,    54,    34,  8069,     5,    50,  1097,  1182,\n",
              "          1253,    13,   484,   107,     4,    91,    26,    37,    21,  2283,\n",
              "             7,    28,   233,     9,     5,  5425,  6953,     9,    10,    92,\n",
              "           372, 40653,    11,     5,  1455,   183,     4,    91,  1581,    14,\n",
              "           144,   372, 42518,    32,   855,  1687, 14739,    50, 11166, 14739,\n",
              "             4, 50118,   534,   368, 19485,     6, 44596,     8, 13295, 40665,\n",
              "            67,  9943,     7,     5,   372, 40653,  4707,     4, 50118, 11094,\n",
              "          1097, 22165,   126,    61,   839,   621,     9,     5,  6693,    11,\n",
              "             5, 12852,     8,  2529,   857, 11991,   111,    16,     5,   232,\n",
              "            17,    27,    29,   934,  3907,    12, 26111, 39326,     4,    20,\n",
              "          8978,    12, 29542,  3122,    64,   517,  2773,   566,     5,  3980,\n",
              "           142,    49,  3701,    32,  1181,    87,    49,  5856,     4,   252,\n",
              "           697,    55, 20100,  1074,    87,    97,   372, 42518,     6,  1408,\n",
              "            10,   319,     9,    86,  8416,     8,  4441,  6231,    11,     5,\n",
              "          6693,     4, 50118,   133,    92,   892,    26,  4163,    87,  5735,\n",
              "             9,     5,  3862,    12, 30343,    50,  1097,  1182,  1253,  5152,\n",
              "             4,  2667,   614,  1530,   146,     5,   333,     5,   144, 14739,\n",
              "             9,    70,     5,   372, 40653,  4707,     4, 50118,  1213,   697,\n",
              "           624,    41,   443,  4631,    59,   112,     6,   151,  3925,  8130,\n",
              "             4,    20,  1956,    16,  1687,  2200,  4478,     4,   280,    16,\n",
              "           142,     5,  1737,    61,    51,  6723,    15,    16,  8908,  3711,\n",
              "            30,   709,     4, 50118, 40450,   224,   114,  2402,    32,    45,\n",
              "           551,  1335,     7,  1888,     5,   595,     8,   499,  3455,     6,\n",
              "             5,    92,  4707,   115,   555, 31703,    44,    48, 34451,    84,\n",
              "          7370,     4,    17,    46, 50118, 27004,    88,     5,    92,  4707,\n",
              "           880,    11,  1014,     6,    77,    41,    50,  1097, 22165,  2591,\n",
              "           333,    11,  9430, 15560,   303,    41,  1710,    50,  1097, 22165,\n",
              "            11,    41,   443,   444,   409,    31,     5,    97,  4707,     4,\n",
              "            20,  4194,  2943,    50,  1097, 22165,    56,    57,  6432,    30,\n",
              "           400, 17603,     8,   962,     9,    39,  1746,     4,    20,  1498,\n",
              "         19444,    21, 10543,    30,  2634,     4, 50118, 36342,     5,  2166,\n",
              "          5550,     9,     5,    92,  4707,    32,    10, 10030,  2735,   471,\n",
              "             8, 40404,  7399,   906,  2549,     4,    20,   255, 20948, 18425,\n",
              "            50,  1097,  1182,  1253,    67,    33,    10,   430,  5626,     8,\n",
              "            32,   303,   129,    11,   723,  6693,   911,     4, 50118,   970,\n",
              "            16,   117, 16681,   758,   467,    13, 16257,    92,  4707,     4,\n",
              "           125,     7,    28,  1687,     6,  6953,  1449,    23,   513,  2703,\n",
              "          5362,    11,    10,   538,  6441,  5362,     4, 50118, 40575,   256,\n",
              "          7915, 29174,    16,   471,     9,     5,  3349, 16633,  6857,   333,\n",
              "            23,     5,  1016,  1332,    13,     5, 12978,     9, 10053,     4,\n",
              "            91,   373,     5,  2609,    10,    44,    48,  5593, 36774,  6953,\n",
              "             4,    17,    46,    91,    26,    24,  4650,  2640,    15,     5,\n",
              "         12852,   168,     7,   244,     5,  4707,  6008,     4, 50118, 33667,\n",
              "           978,   677,    16,    65,     9,     5,  6737,     9,     5,   892,\n",
              "             4,    91,   174,     5,  1562,   977,    14,    89,    32,   130,\n",
              "          1134,     9,     5,   255, 20948, 18425,    50,  1097,  1182,  1253,\n",
              "            14,    32,  8254,    30,   786,    12, 37659,  1212,     4,   894,\n",
              "            26,  6693,  1212,   782,     7,  4686,     5,  8254,  1134,     4,\n",
              "         50118,  1121,  1285,     6,     5,  6737,     9,     5,   892,    32,\n",
              "         22190,    14,   708,    13,    10, 13075,  6884,  8285,  1312,    11,\n",
              "             5,   443,    28,  2294,    30,     5,   168,     4, 50118,   243,\n",
              "            67,  5131,    14,  2405,  6693,    11,     5,  9430,   415,  3917,\n",
              "           443,   147,     5,    50,  1097,  1182,  1253,   697,    28,  4371,\n",
              "             4, 50118,   100,    17,    27,   119,  7573,  9840,     4, 50140,\n",
              "          1437,  1437,  1437,  1437,  1437,  1437,  1437,  1437,     2]]), 'attention_mask': tensor([[1, 1, 1, 1, 1, 1, 1, 1, 1, 1, 1, 1, 1, 1, 1, 1, 1, 1, 1, 1, 1, 1, 1, 1,\n",
              "         1, 1, 1, 1, 1, 1, 1, 1, 1, 1, 1, 1, 1, 1, 1, 1, 1, 1, 1, 1, 1, 1, 1, 1,\n",
              "         1, 1, 1, 1, 1, 1, 1, 1, 1, 1, 1, 1, 1, 1, 1, 1, 1, 1, 1, 1, 1, 1, 1, 1,\n",
              "         1, 1, 1, 1, 1, 1, 1, 1, 1, 1, 1, 1, 1, 1, 1, 1, 1, 1, 1, 1, 1, 1, 1, 1,\n",
              "         1, 1, 1, 1, 1, 1, 1, 1, 1, 1, 1, 1, 1, 1, 1, 1, 1, 1, 1, 1, 1, 1, 1, 1,\n",
              "         1, 1, 1, 1, 1, 1, 1, 1, 1, 1, 1, 1, 1, 1, 1, 1, 1, 1, 1, 1, 1, 1, 1, 1,\n",
              "         1, 1, 1, 1, 1, 1, 1, 1, 1, 1, 1, 1, 1, 1, 1, 1, 1, 1, 1, 1, 1, 1, 1, 1,\n",
              "         1, 1, 1, 1, 1, 1, 1, 1, 1, 1, 1, 1, 1, 1, 1, 1, 1, 1, 1, 1, 1, 1, 1, 1,\n",
              "         1, 1, 1, 1, 1, 1, 1, 1, 1, 1, 1, 1, 1, 1, 1, 1, 1, 1, 1, 1, 1, 1, 1, 1,\n",
              "         1, 1, 1, 1, 1, 1, 1, 1, 1, 1, 1, 1, 1, 1, 1, 1, 1, 1, 1, 1, 1, 1, 1, 1,\n",
              "         1, 1, 1, 1, 1, 1, 1, 1, 1, 1, 1, 1, 1, 1, 1, 1, 1, 1, 1, 1, 1, 1, 1, 1,\n",
              "         1, 1, 1, 1, 1, 1, 1, 1, 1, 1, 1, 1, 1, 1, 1, 1, 1, 1, 1, 1, 1, 1, 1, 1,\n",
              "         1, 1, 1, 1, 1, 1, 1, 1, 1, 1, 1, 1, 1, 1, 1, 1, 1, 1, 1, 1, 1, 1, 1, 1,\n",
              "         1, 1, 1, 1, 1, 1, 1, 1, 1, 1, 1, 1, 1, 1, 1, 1, 1, 1, 1, 1, 1, 1, 1, 1,\n",
              "         1, 1, 1, 1, 1, 1, 1, 1, 1, 1, 1, 1, 1, 1, 1, 1, 1, 1, 1, 1, 1, 1, 1, 1,\n",
              "         1, 1, 1, 1, 1, 1, 1, 1, 1, 1, 1, 1, 1, 1, 1, 1, 1, 1, 1, 1, 1, 1, 1, 1,\n",
              "         1, 1, 1, 1, 1, 1, 1, 1, 1, 1, 1, 1, 1, 1, 1, 1, 1, 1, 1, 1, 1, 1, 1, 1,\n",
              "         1, 1, 1, 1, 1, 1, 1, 1, 1, 1, 1, 1, 1, 1, 1, 1, 1, 1, 1, 1, 1, 1, 1, 1,\n",
              "         1, 1, 1, 1, 1, 1, 1, 1, 1, 1, 1, 1, 1, 1, 1, 1, 1, 1, 1, 1, 1, 1, 1, 1,\n",
              "         1, 1, 1, 1, 1, 1, 1, 1, 1, 1, 1, 1, 1, 1, 1, 1, 1, 1, 1, 1, 1, 1, 1, 1,\n",
              "         1, 1, 1, 1, 1, 1, 1, 1, 1, 1, 1, 1, 1, 1, 1, 1, 1, 1, 1, 1, 1, 1, 1, 1,\n",
              "         1, 1, 1, 1, 1, 1, 1, 1, 1, 1, 1, 1, 1, 1, 1, 1, 1, 1, 1, 1, 1, 1, 1, 1,\n",
              "         1, 1, 1, 1, 1, 1, 1, 1, 1, 1, 1, 1, 1, 1, 1, 1, 1, 1, 1, 1, 1, 1, 1, 1,\n",
              "         1, 1, 1, 1, 1, 1, 1, 1, 1, 1, 1, 1, 1, 1, 1, 1, 1, 1, 1, 1, 1, 1, 1, 1,\n",
              "         1, 1, 1, 1, 1, 1, 1, 1, 1, 1, 1, 1, 1, 1, 1, 1, 1, 1, 1, 1, 1, 1, 1, 1,\n",
              "         1, 1, 1, 1, 1, 1, 1, 1, 1, 1, 1, 1, 1, 1, 1, 1, 1, 1, 1, 1, 1, 1, 1, 1,\n",
              "         1, 1, 1, 1, 1, 1, 1, 1, 1, 1, 1, 1, 1, 1, 1, 1, 1, 1, 1, 1, 1, 1, 1, 1,\n",
              "         1, 1, 1, 1, 1, 1, 1, 1, 1, 1, 1, 1, 1, 1, 1, 1, 1, 1, 1, 1, 1, 1, 1, 1,\n",
              "         1, 1, 1, 1, 1, 1, 1]])}"
            ]
          },
          "metadata": {},
          "execution_count": 9
        }
      ]
    },
    {
      "cell_type": "code",
      "source": [
        "# Generate the summary\n",
        "summary_ids = model.generate(inputs['input_ids'], max_length=300, min_length=80, length_penalty=2.0, num_beams=4, early_stopping=True)\n",
        "summary_ids"
      ],
      "metadata": {
        "colab": {
          "base_uri": "https://localhost:8080/",
          "height": 0
        },
        "id": "y5nFGX2w7aWI",
        "outputId": "8998781b-ac93-41e6-fcf1-a3129bd5cc11"
      },
      "execution_count": 10,
      "outputs": [
        {
          "output_type": "execute_result",
          "data": {
            "text/plain": [
              "tensor([[    2,     0, 40450,  1440,     5,    92,  4707,     5,   255, 20948,\n",
              "         18425,    50,  1097, 22165,     4,   252,   224,     5,  3122,    32,\n",
              "          1687,    10,    92,  4707,   142,     9,  9186,     6, 39351,     8,\n",
              "         13495,  5550,     4, 13464,   254,    87,  5735,     9,     5,  3862,\n",
              "            12, 30343,    50,  1097,  1182,  1253,  5152,     4,  2667,   614,\n",
              "          1530,   146,     5,   333,     5,   144, 14739,     9,    70,     5,\n",
              "           372, 40653,  4707,     4,    20,  1956,    16,  1687,  2200,  4478,\n",
              "           142,     5,  1737,    61,    51,  6723,    15,    16,  8908,  3711,\n",
              "            30,   709,     4,     2]])"
            ]
          },
          "metadata": {},
          "execution_count": 10
        }
      ]
    },
    {
      "cell_type": "code",
      "source": [
        "# Decode the generated summary\n",
        "summary = tokenizer.decode(summary_ids[0], skip_special_tokens=True)\n",
        "summary"
      ],
      "metadata": {
        "colab": {
          "base_uri": "https://localhost:8080/",
          "height": 73
        },
        "id": "Vj4ut8Sx7wP8",
        "outputId": "bff98040-2843-4b82-ca12-8d383a9eefc8"
      },
      "execution_count": 11,
      "outputs": [
        {
          "output_type": "execute_result",
          "data": {
            "text/plain": [
              "'Researchers named the new species the Tapanuli orangutan. They say the animals are considered a new species because of genetic, skeletal and tooth differences. Fewer than 800 of the newly-described orangutans exist. Their low numbers make the group the most endangered of all the great ape species. The population is considered highly vulnerable because the environment which they depend on is greatly threatened by development.'"
            ],
            "application/vnd.google.colaboratory.intrinsic+json": {
              "type": "string"
            }
          },
          "metadata": {},
          "execution_count": 11
        }
      ]
    },
    {
      "cell_type": "code",
      "source": [
        "# All together"
      ],
      "metadata": {
        "id": "Cdn3mOQX79sj"
      },
      "execution_count": 12,
      "outputs": []
    },
    {
      "cell_type": "code",
      "source": [
        "from transformers import BartForConditionalGeneration, BartTokenizer\n",
        "\n",
        "# Load the pre-trained BART model and tokenizer\n",
        "model_name = 'facebook/bart-large-cnn'\n",
        "model = BartForConditionalGeneration.from_pretrained(model_name)\n",
        "tokenizer = BartTokenizer.from_pretrained(model_name)\n",
        "\n",
        "# Define the text you want to summarize\n",
        "text = '''\n",
        "       Scientists say they have discovered a new species of orangutans on Indonesia’s island of Sumatra.\n",
        "The population differs in several ways from the two existing orangutan species found in Sumatra and the neighboring island of Borneo.\n",
        "The orangutans were found inside North Sumatra’s Batang Toru forest, the science publication Current Biology reported.\n",
        "Researchers named the new species the Tapanuli orangutan. They say the animals are considered a new species because of genetic, skeletal and tooth differences.\n",
        "Michael Kruetzen is a geneticist with the University of Zurich who has studied the orangutans for several years. He said he was excited to be part of the unusual discovery of a new great ape in the present day. He noted that most great apes are currently considered endangered or severely endangered.\n",
        "Gorillas, chimpanzees and bonobos also belong to the great ape species.\n",
        "Orangutan – which means person of the forest in the Indonesian and Malay languages - is the world’s biggest tree-living mammal. The orange-haired animals can move easily among the trees because their arms are longer than their legs. They live more lonely lives than other great apes, spending a lot of time sleeping and eating fruit in the forest.\n",
        "The new study said fewer than 800 of the newly-described orangutans exist. Their low numbers make the group the most endangered of all the great ape species.\n",
        "They live within an area covering about 1,000 square kilometers. The population is considered highly vulnerable. That is because the environment which they depend on is greatly threatened by development.\n",
        "Researchers say if steps are not taken quickly to reduce the current and future threats, the new species could become extinct “within our lifetime.”\n",
        "Research into the new species began in 2013, when an orangutan protection group in Sumatra found an injured orangutan in an area far away from the other species. The adult male orangutan had been beaten by local villagers and died of his injuries. The complete skull was examined by researchers.\n",
        "Among the physical differences of the new species are a notably smaller head and frizzier hair. The Tapanuli orangutans also have a different diet and are found only in higher forest areas.\n",
        "There is no unified international system for recognizing new species. But to be considered, discovery claims at least require publication in a major scientific publication.\n",
        "Russell Mittermeier is head of the primate specialist group at the International Union for the Conservation of Nature. He called the finding a “remarkable discovery.” He said it puts responsibility on the Indonesian government to help the species survive.\n",
        "Matthew Nowak is one of the writers of the study. He told the Associated Press that there are three groups of the Tapanuli orangutans that are separated by non-protected land.He said forest land needs to connect the separated groups.\n",
        "In addition, the writers of the study are recommending that plans for a hydropower center in the area be stopped by the government.\n",
        "It also recommended that remaining forest in the Sumatran area where the orangutans live be protected.\n",
        "I’m Bryan Lynn.\n",
        "\n",
        "        '''\n",
        "\n",
        "# Tokenize the input text and prepare it for the model\n",
        "inputs = tokenizer(text, max_length=2048, return_tensors='pt', truncation=True)\n",
        "\n",
        "# Generate the summary\n",
        "summary_ids = model.generate(inputs['input_ids'], max_length=500, min_length=1000, length_penalty=2.0, num_beams=4, early_stopping=True)\n",
        "\n",
        "# Decode the generated summary\n",
        "summary = tokenizer.decode(summary_ids[0], skip_special_tokens=True)\n",
        "\n",
        "# Print the summary\n",
        "# print(summary)\n"
      ],
      "metadata": {
        "colab": {
          "base_uri": "https://localhost:8080/",
          "height": 0
        },
        "id": "7aWI1xQBw_Tf",
        "outputId": "3eef55a3-d9c1-4cc6-dde4-cc9de201a529"
      },
      "execution_count": 13,
      "outputs": [
        {
          "output_type": "stream",
          "name": "stderr",
          "text": [
            "/usr/local/lib/python3.10/dist-packages/transformers/generation/utils.py:1192: UserWarning: Unfeasible length constraints: `min_length` (1000) is larger than the maximum possible length (500). Generation will stop at the defined maximum length. You should decrease the minimum length and/or increase the maximum length.\n",
            "  warnings.warn(\n"
          ]
        }
      ]
    },
    {
      "cell_type": "code",
      "source": [
        "summary"
      ],
      "metadata": {
        "colab": {
          "base_uri": "https://localhost:8080/",
          "height": 128
        },
        "id": "lXPLx7VN6NNz",
        "outputId": "b4a599a3-ba0b-4e11-b783-cd519c80d20b"
      },
      "execution_count": 14,
      "outputs": [
        {
          "output_type": "execute_result",
          "data": {
            "text/plain": [
              "'Researchers named the new species the Tapanuli orangutan. They say the animals are considered a new species because of genetic, skeletal and tooth differences. Fewer than 800 of the newly-described orangutans exist. Their low numbers make the group the most endangered of all the great ape species. They live within an area covering about 1,000 square kilometers. The population is considered highly vulnerable. That is because the environment which they depend on is greatly threatened by development. Researchers say if steps are not taken quickly to reduce the current and future threats, the new. species could become extinct “within our lifetime” The orange-haired animals can move easily among the trees because their arms are longer than their legs. They are the world’s biggest tree-living mammal. The species is also home to the gorillas, chimpanzees, bonobos and other great apes. The study recommends that remaining forest in the Sumatran area where they live be protected. It also recommends that plans for a hydropower center in the area be stopped by the government. It said forest land needs to connect the separated groups. The finding a “remarkable discovery.” He said it puts responsibility on the Indonesian government to help the species survive. The researchers are calling on the government to protect the area where the animals live. They said the area needs to be separated by non-protected land. They also called for the creation of a ‘Tapanuli conservation area’ to help protect the animals. The new species has a notably smaller head and frizzier hair. It is also found only in higher forest areas. The Tapanulis have a different diet and are only found in the forest in Sumatra and Borneo. The animals live more lonely lives than other Great Ape species, spending a lot of time sleeping and eating fruit in the forests. They have a longer arm than the legs and can move more easily among trees because of their long arms. The oranguts live in the Batang Toru forest on the island of Sumatra, which is home to about 800,000 people. The area is considered to be one of the most biodiverse places in the world. The scientists are calling for a conservation area to be created in the region to protect them from development and protect the environment. The research is being carried out by the University of Zurich and the International Union for the Conservation of Nature (IUCN)'"
            ],
            "application/vnd.google.colaboratory.intrinsic+json": {
              "type": "string"
            }
          },
          "metadata": {},
          "execution_count": 14
        }
      ]
    },
    {
      "cell_type": "code",
      "source": [],
      "metadata": {
        "id": "nTZX28Q58QFF"
      },
      "execution_count": null,
      "outputs": []
    }
  ]
}